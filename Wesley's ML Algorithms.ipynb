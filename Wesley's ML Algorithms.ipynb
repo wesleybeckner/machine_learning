{
 "cells": [
  {
   "cell_type": "markdown",
   "metadata": {},
   "source": [
    "##Multivariate Regression\n",
    "###Gradient Descent\n",
    "Ideal for when N is very large $N =~ 10^{6}$"
   ]
  },
  {
   "cell_type": "code",
   "execution_count": 5,
   "metadata": {
    "collapsed": false
   },
   "outputs": [
    {
     "data": {
      "text/plain": [
       "array([ 340412.65957447,  109447.79520343,   -6578.35358795])"
      ]
     },
     "execution_count": 5,
     "metadata": {},
     "output_type": "execute_result"
    }
   ],
   "source": [
    "import pandas\n",
    "import numpy as np\n",
    "import matplotlib.pyplot as plt\n",
    "%matplotlib inline\n",
    "\n",
    "#prepare data\n",
    "data = pandas.read_csv('ex1data2.txt', header=None, names=['x1', 'x2', 'y'])\n",
    "X = data[['x1', 'x2']].values\n",
    "Y = data['y'].values\n",
    "m = len(X)\n",
    "\n",
    "#initialize gradient descent parameters\n",
    "alpha = 0.01\n",
    "theta = np.zeros(3)\n",
    "iterations = 4000\n",
    "\n",
    "#feature normalize\n",
    "mu = np.mean(X, axis=0)\n",
    "sigma = np.std(X, axis=0)\n",
    "X_norm = (X-mu)/sigma\n",
    "#add a dummy one's column in X_norm for theta 0\n",
    "X_norm = np.insert(X_norm, 0, 1, 1)\n",
    "\n",
    "def compute_cost_multi(X_norm, y, theta):\n",
    "    \n",
    "    #compute the cost\n",
    "    H = np.dot(X_norm, theta)\n",
    "    J = 1/(2*m) * np.sum([(H[i]-Y[i])**2 for i in range (m)])\n",
    "    return J\n",
    "\n",
    "def gradient_descent_multi(X, y, theta, alpha, num_iters):\n",
    "        \n",
    "    # Initialize\n",
    "    J_history = np.zeros(num_iters)\n",
    "    T_history = np.zeros((num_iters,X.shape[1]))\n",
    "    \n",
    "    #perform iterations\n",
    "    for i in range(num_iters):\n",
    "        T_history[i] = theta\n",
    "\n",
    "        H = np.dot(X, theta)\n",
    "        theta0 = alpha * 1/m * np.sum([(H[i]-Y[i])*X[i,0] for i in range (m)])\n",
    "        theta1 = alpha * 1/m * np.sum([(H[i]-Y[i])*X[i,1] for i in range (m)])\n",
    "        theta2 = alpha * 1/m * np.sum([(H[i]-Y[i])*X[i,2] for i in range (m)])\n",
    "        \n",
    "        theta[0] = theta[0] - theta0\n",
    "        theta[1] = theta[1] - theta1 \n",
    "        theta[2] = theta[2] - theta2\n",
    "        \n",
    "        ### =====================================\n",
    "        \n",
    "        J_history[i] = compute_cost_multi(X, y, theta)\n",
    "    return theta, J_history, T_history\n",
    "\n",
    "theta, J_history, T_history = gradient_descent_multi(X_norm, Y, theta, alpha, iterations)\n",
    "\n",
    "theta"
   ]
  },
  {
   "cell_type": "code",
   "execution_count": 6,
   "metadata": {
    "collapsed": false
   },
   "outputs": [
    {
     "data": {
      "text/plain": [
       "<matplotlib.axes._subplots.AxesSubplot at 0x7fd31a275518>"
      ]
     },
     "execution_count": 6,
     "metadata": {},
     "output_type": "execute_result"
    },
    {
     "data": {
      "image/png": "[encoded data removed]",
      "text/plain": [
       "<matplotlib.figure.Figure at 0x7fd31a2d0400>"
      ]
     },
     "metadata": {},
     "output_type": "display_data"
    }
   ],
   "source": [
    "pandas.Series(J_history).plot()"
   ]
  },
  {
   "cell_type": "code",
   "execution_count": 7,
   "metadata": {
    "collapsed": false
   },
   "outputs": [
    {
     "data": {
      "text/plain": [
       "293081.46461339662"
      ]
     },
     "execution_count": 7,
     "metadata": {},
     "output_type": "execute_result"
    }
   ],
   "source": [
    "#price prediction using gradient descent\n",
    "T = [1650, 3]\n",
    "T_norm = (T-mu)/sigma\n",
    "T_norm = np.insert(T_norm, 0, 1, 0)\n",
    "price = np.dot(T_norm, theta)\n",
    "\n",
    "# ============================================================\n",
    "\n",
    "price"
   ]
  },
  {
   "cell_type": "markdown",
   "metadata": {},
   "source": [
    "###The Normal Equation\n",
    "Analytical solution ideal when $N < 10^{6}$\n",
    "\n",
    "we take advantage of the following identity:\n",
    "\n",
    "$\\frac{1}{2}(X\\theta-\\vec{y})^T(X\\theta-\\vec{y})=\\frac{1}{2}\\sum\\limits_{i=1}^{m} (h_\\theta(x^(i)-y^(i))^2=J(\\theta)$"
   ]
  },
  {
   "cell_type": "code",
   "execution_count": 8,
   "metadata": {
    "collapsed": false
   },
   "outputs": [
    {
     "data": {
      "text/plain": [
       "array([ 89597.9095428 ,    139.21067402,  -8738.01911233])"
      ]
     },
     "execution_count": 8,
     "metadata": {},
     "output_type": "execute_result"
    }
   ],
   "source": [
    "###linear regression using the normal equation\n",
    "#prepare data\n",
    "data = pandas.read_csv('ex1data2.txt', header=None, names=['x1', 'x2', 'y'])\n",
    "X = data[['x1', 'x2']].values\n",
    "Y = data['y'].values\n",
    "X = np.insert(X, 0, 1, 1)\n",
    "Xt = np.transpose(X)\n",
    "\n",
    "def normal_eqn(X, Y):\n",
    "    XX = np.linalg.inv(np.dot(np.transpose(X),X))\n",
    "    XY = np.dot(np.transpose(X),Y)\n",
    "    thetan = np.dot(XX,XY)\n",
    "    return thetan\n",
    "\n",
    "thetan = normal_eqn(X, Y)\n",
    "thetan"
   ]
  },
  {
   "cell_type": "code",
   "execution_count": 9,
   "metadata": {
    "collapsed": false
   },
   "outputs": [
    {
     "data": {
      "text/plain": [
       "293081.46433489729"
      ]
     },
     "execution_count": 9,
     "metadata": {},
     "output_type": "execute_result"
    }
   ],
   "source": [
    "#price prediction using normal equation\n",
    "T = [1, 1650, 3]\n",
    "price = np.dot(T, thetan)\n",
    "price"
   ]
  },
  {
   "cell_type": "markdown",
   "metadata": {
    "collapsed": true
   },
   "source": [
    "##Logistic Regression\n",
    "We introduce this function in classification problems (where y is discrete [0,1]). Because y is either zero or one, we want our hypothesis function to have values between zero and one. We implement this by introducing a sigmoidal (S-shape) function that operates on theta. However, there are other smooth functions we could have chosen.\n",
    "\n",
    "i.e. ...\n",
    "\n",
    "The cost function in logistic regression is\n",
    "\n",
    "$J(\\theta)=\\frac{1}{m}\\sum\\limits_{i=1}^{m} (-y^ilog(h_\\theta(x^i))-(1-y^i)log(1-h_\\theta(x^i))$\n",
    "\n",
    "where the hypothesis\n",
    "\n",
    "$h_\\theta(x)=g(\\theta^Tx)$\n",
    "\n",
    "includes the sigmoid function\n",
    "\n",
    "$g(z)=\\frac{1}{1+e^-z}$\n",
    "\n",
    "in order to range our hypothesis from 0 to 1"
   ]
  },
  {
   "cell_type": "code",
   "execution_count": 10,
   "metadata": {
    "collapsed": false
   },
   "outputs": [
    {
     "data": {
      "text/plain": [
       "array([ -0.1       , -12.00921659, -11.26284221])"
      ]
     },
     "execution_count": 10,
     "metadata": {},
     "output_type": "execute_result"
    }
   ],
   "source": [
    "import pandas\n",
    "import numpy as np\n",
    "import scipy.optimize\n",
    "import matplotlib.pyplot as plt\n",
    "%matplotlib inline\n",
    "\n",
    "data1 = pandas.read_csv(\"ex2data1.txt\", header=None, names=['test1', 'test2', 'accepted'])\n",
    "X = data1[['test1', 'test2']].values\n",
    "y = data1.accepted.values\n",
    "m, n = X.shape\n",
    "X = np.insert(X, 0, np.ones(len(X)), 1)\n",
    "theta = np.zeros(n + 1)\n",
    "\n",
    "def sigmoid(z):\n",
    "    \n",
    "    g = 1/(1+np.exp(-z))\n",
    "    return g\n",
    "\n",
    "def cost(X, Y, theta, lambda_=0):\n",
    "    \n",
    "    J = 0\n",
    "    H = sigmoid(np.dot(X, theta))\n",
    "    J = 1/(m) * np.sum(-Y[i]*np.log(H[i])-(1-Y[i])*np.log(1-H[i]) for i in range (m))   \n",
    "    return J\n",
    "\n",
    "def gradient(X, Y, theta, lambda_=0):\n",
    "    \n",
    "    grad = np.zeros(theta.shape)\n",
    "    H = sigmoid(np.dot(X, theta))   \n",
    "    grad = (1/m)*(H - np.mat(Y))*X\n",
    "    \n",
    "    return np.ravel(grad)\n",
    "cost(X, y, np.array(theta))\n",
    "gradient(X, y, np.array([0.0,0.0,0.0]))"
   ]
  },
  {
   "cell_type": "markdown",
   "metadata": {
    "collapsed": false
   },
   "source": [
    "### Optimization Using Fminunc\n",
    "We use a built-in scipy function to optimize our values for theta"
   ]
  },
  {
   "cell_type": "code",
   "execution_count": 11,
   "metadata": {
    "collapsed": false
   },
   "outputs": [
    {
     "name": "stdout",
     "output_type": "stream",
     "text": [
      "Optimization terminated successfully.\n",
      "         Current function value: 0.203539\n",
      "         Iterations: 26\n",
      "         Function evaluations: 71\n",
      "         Gradient evaluations: 220\n",
      "         Hessian evaluations: 0\n"
     ]
    },
    {
     "data": {
      "text/plain": [
       "array([-24.64188395,   0.20207862,   0.1972666 ])"
      ]
     },
     "execution_count": 11,
     "metadata": {},
     "output_type": "execute_result"
    }
   ],
   "source": [
    "def mycost(t):\n",
    "    return cost(X, y, t)\n",
    "\n",
    "def mygrad(t):\n",
    "    return gradient(X, y, t)\n",
    "\n",
    "optimal_theta = scipy.optimize.fmin_ncg(mycost, theta, fprime=mygrad)\n",
    "optimal_theta"
   ]
  },
  {
   "cell_type": "code",
   "execution_count": 12,
   "metadata": {
    "collapsed": false
   },
   "outputs": [
    {
     "data": {
      "text/plain": [
       "[<matplotlib.lines.Line2D at 0x7fd31a21fd68>]"
      ]
     },
     "execution_count": 12,
     "metadata": {},
     "output_type": "execute_result"
    },
    {
     "data": {
      "image/png": "[encoded data removed]",
      "text/plain": [
       "<matplotlib.figure.Figure at 0x7fd31a21fcc0>"
      ]
     },
     "metadata": {},
     "output_type": "display_data"
    }
   ],
   "source": [
    "def plotData(data):\n",
    "    fig, ax = plt.subplots()\n",
    "    results_accepted = data[data.accepted == 1]\n",
    "    results_rejected = data[data.accepted == 0]\n",
    "    ax.scatter(results_accepted.test1, results_accepted.test2, marker='+', c='b', s=40)\n",
    "    ax.scatter(results_rejected.test1, results_rejected.test2, marker='o', c='r', s=30)\n",
    "    return ax\n",
    "\n",
    "ax = plotData(data1)\n",
    "x_plot = np.array([np.max(X[:, 1]), np.min(X[:,1])])\n",
    "y_plot = (-optimal_theta[0] - optimal_theta[1]*x_plot) / (optimal_theta[2])\n",
    "ax.plot(x_plot, y_plot)"
   ]
  },
  {
   "cell_type": "markdown",
   "metadata": {
    "collapsed": true
   },
   "source": [
    "###Predict\n",
    "Let's use optimized theta to predict if a student will be accepted"
   ]
  },
  {
   "cell_type": "code",
   "execution_count": 13,
   "metadata": {
    "collapsed": false
   },
   "outputs": [],
   "source": [
    "def predict(t, x):\n",
    "    T = [1, t, x]\n",
    "    p = np.zeros(m)\n",
    "    H = sigmoid(np.dot(T, optimal_theta))\n",
    "       \n",
    "    if H >= 0.5:\n",
    "        p = 'accepted'\n",
    "    else:\n",
    "        p = 'rejected'\n",
    "      \n",
    "    return p\n"
   ]
  },
  {
   "cell_type": "markdown",
   "metadata": {
    "collapsed": true
   },
   "source": [
    "###Regularized Logistic Regression"
   ]
  },
  {
   "cell_type": "markdown",
   "metadata": {},
   "source": [
    "The cost function in regularized logistic regression is\n",
    "\n",
    "$J(\\theta)=\\frac{1}{m}\\sum\\limits_{i=1}^{m} (-y^ilog(h_\\theta(x^i))-(1-y^i)log(1-h_\\theta(x^i))+\\frac{\\lambda}{2m}\\sum\\limits_{j=2}^{n} \\theta_j^2$\n",
    "\n",
    "where the hypothesis\n",
    "\n",
    "$h_\\theta(x)=g(\\theta^Tx)$\n",
    "\n",
    "includes the sigmoid function\n",
    "\n",
    "$g(z)=\\frac{1}{1+e^-z}$\n",
    "\n",
    "in order to range our hypothesis from 0 to 1\n",
    "\n",
    "we also map the features into polynomial terms of $x_1$ and $x_2$ up to the sixth power in order to fit the non-linear data. This mapping results in a 28-dimensional vector"
   ]
  },
  {
   "cell_type": "code",
   "execution_count": 14,
   "metadata": {
    "collapsed": false
   },
   "outputs": [
    {
     "data": {
      "text/plain": [
       "<matplotlib.text.Text at 0x7fd31a19a2b0>"
      ]
     },
     "execution_count": 14,
     "metadata": {},
     "output_type": "execute_result"
    },
    {
     "data": {
      "image/png": "[encoded data removed]",
      "text/plain": [
       "<matplotlib.figure.Figure at 0x7fd31a1c5828>"
      ]
     },
     "metadata": {},
     "output_type": "display_data"
    }
   ],
   "source": [
    "data2 = pandas.read_csv(\"./ex2data2.txt\", header=None, names=['test1', 'test2', 'accepted'])\n",
    "ax = plotData(data2)\n",
    "ax.legend(['y = 1', 'y = 0'], loc='best')\n",
    "ax.set_xlabel('Microchip test 1')\n",
    "ax.set_ylabel('Microchip test 2')"
   ]
  },
  {
   "cell_type": "code",
   "execution_count": 15,
   "metadata": {
    "collapsed": false
   },
   "outputs": [
    {
     "data": {
      "text/plain": [
       "array([[ 1,  2,  3,  4,  6,  9,  8, 12, 18, 27],\n",
       "       [ 1,  3,  2,  9,  6,  4, 27, 18, 12,  8]])"
      ]
     },
     "execution_count": 15,
     "metadata": {},
     "output_type": "execute_result"
    }
   ],
   "source": [
    "#map the features\n",
    "def mapFeature(x1, x2):\n",
    "    ret = np.array([x1**(i-j) * x2**j \n",
    "                    for i in range(1,7) for j in range(i+1)\n",
    "                   ])\n",
    "    return np.insert(ret, 0, np.ones(len(x1)), 0).T\n",
    "\n",
    "\n",
    "\n",
    "X = mapFeature(data2.test1, data2.test2)\n",
    "y = data2.accepted.values\n",
    "initial_theta = np.zeros(X.shape[1])\n",
    "X.shape, y.shape, initial_theta.shape\n",
    "\n",
    "cost(X, y, initial_theta, lambda_=0) \n",
    "mapFeature(np.array([2,3]),np.array([3,2]))[:, :10]"
   ]
  },
  {
   "cell_type": "code",
   "execution_count": 16,
   "metadata": {
    "collapsed": false
   },
   "outputs": [
    {
     "name": "stdout",
     "output_type": "stream",
     "text": [
      "Warning: Desired error not necessarily achieved due to precision loss.\n",
      "         Current function value: 0.369277\n",
      "         Iterations: 13\n",
      "         Function evaluations: 59\n",
      "         Gradient evaluations: 48\n"
     ]
    },
    {
     "data": {
      "text/plain": [
       "array([  3.48063759e+00,   1.85328697e+00,   3.68925618e+00,\n",
       "        -5.62027466e+00,  -1.80098623e+00,  -2.80518112e+00,\n",
       "        -1.81591744e-01,  -7.90532241e-01,  -6.78392542e-01,\n",
       "        -8.17850790e-01,  -4.54966120e+00,  -2.04211667e-01,\n",
       "        -1.47102091e+00,  -4.92523193e-01,  -3.52248138e+00,\n",
       "        -1.31469588e+00,  -5.59820902e-01,  -1.79831905e-01,\n",
       "        -6.60041964e-01,  -5.95999807e-01,  -2.28684303e+00,\n",
       "        -3.56063144e+00,  -5.32270794e-02,  -7.57415613e-01,\n",
       "        -3.03516582e-03,  -8.33036362e-01,  -2.63322509e-01,\n",
       "        -3.60562726e+00])"
      ]
     },
     "execution_count": 16,
     "metadata": {},
     "output_type": "execute_result"
    }
   ],
   "source": [
    "lambda_ = 100\n",
    "\n",
    "#again use the built in optimization function\n",
    "optimal_theta = scipy.optimize.fmin_bfgs(lambda t: cost(X, y, t, lambda_),\n",
    "                                        initial_theta,\n",
    "                                        lambda t: gradient(X, y, t, lambda_))\n",
    "optimal_theta"
   ]
  },
  {
   "cell_type": "code",
   "execution_count": 17,
   "metadata": {
    "collapsed": false
   },
   "outputs": [
    {
     "data": {
      "text/plain": [
       "<matplotlib.contour.QuadContourSet at 0x7fd31a1bbe48>"
      ]
     },
     "execution_count": 17,
     "metadata": {},
     "output_type": "execute_result"
    },
    {
     "data": {
      "image/png": "[encoded data removed]",
      "text/plain": [
       "<matplotlib.figure.Figure at 0x7fd31a1bba90>"
      ]
     },
     "metadata": {},
     "output_type": "display_data"
    }
   ],
   "source": [
    "contour_x = np.linspace(-1, 1.5)\n",
    "contour_y = np.linspace(-1, 1.5)\n",
    "def calc_z(x, y):\n",
    "    return mapFeature(np.array([x]), np.array([y])).dot(optimal_theta)\n",
    "\n",
    "z = np.zeros((len(contour_x), len(contour_y)))\n",
    "for i, c_x in enumerate(contour_x):\n",
    "    for j, c_y in enumerate(contour_y):\n",
    "        z[i,j] = calc_z(c_x, c_y)[0]\n",
    "        \n",
    "ax = plotData(data2)\n",
    "ax.contour(contour_x, contour_y, z, levels=[0])"
   ]
  },
  {
   "cell_type": "code",
   "execution_count": 18,
   "metadata": {
    "collapsed": false
   },
   "outputs": [
    {
     "name": "stdout",
     "output_type": "stream",
     "text": [
      "Optimization terminated successfully.\n",
      "         Current function value: 0.224569\n",
      "         Iterations: 546\n",
      "         Function evaluations: 547\n",
      "         Gradient evaluations: 547\n"
     ]
    },
    {
     "data": {
      "text/plain": [
       "<matplotlib.contour.QuadContourSet at 0x7fd319ff90b8>"
      ]
     },
     "execution_count": 18,
     "metadata": {},
     "output_type": "execute_result"
    },
    {
     "data": {
      "image/png": "[encoded data removed]",
      "text/plain": [
       "<matplotlib.figure.Figure at 0x7fd31a219390>"
      ]
     },
     "metadata": {},
     "output_type": "display_data"
    },
    {
     "data": {
      "image/png": "[encoded data removed]",
      "text/plain": [
       "<matplotlib.figure.Figure at 0x7fd31a051d68>"
      ]
     },
     "metadata": {},
     "output_type": "display_data"
    }
   ],
   "source": [
    "import pandas\n",
    "import numpy as np\n",
    "import scipy.optimize\n",
    "import matplotlib.pyplot as plt\n",
    "%matplotlib inline\n",
    "\n",
    "data2 = pandas.read_csv(\"./ex2data2.txt\", header=None, names=['test1', 'test2', 'accepted'])\n",
    "X = data2[['test1', 'test2']].values\n",
    "y = data2.accepted.values\n",
    "m, n = X.shape\n",
    "X = np.insert(X, 0, np.ones(len(X)), 1)\n",
    "\n",
    "\n",
    "def sigmoid(z):\n",
    "    \n",
    "    g = 1/(1+np.exp(-z))\n",
    "    return g\n",
    "\n",
    "theta = np.zeros(n + 1)\n",
    "\n",
    "def cost(X, Y, theta, lambda_=0):\n",
    "    \n",
    "    J = 0\n",
    "    H = sigmoid(np.dot(X, theta))\n",
    "    J = 1/(m) * np.sum(-Y[i]*np.log(H[i])-(1-Y[i])*np.log(1-H[i]) for i in range (m))   \n",
    "    return J\n",
    "\n",
    "def gradient(X, Y, theta, lambda_=0):\n",
    "    \n",
    "    grad = np.zeros(theta.shape)\n",
    "    H = sigmoid(np.dot(X, theta))   \n",
    "    grad = (1/m)*(H - np.mat(Y))*X\n",
    "    \n",
    "    return np.ravel(grad)\n",
    "\n",
    "\n",
    "\n",
    "initial_theta = np.zeros(n + 1)\n",
    "\n",
    "cost(X, y, np.array(theta))\n",
    "gradient(X, y, np.array([0.0,0.0,0.0]))\n",
    "\n",
    "\n",
    "\n",
    "data2 = pandas.read_csv(\"./ex2data2.txt\", header=None, names=['test1', 'test2', 'accepted'])\n",
    "data2.head()\n",
    "\n",
    "ax = plotData(data2)\n",
    "ax.legend(['y = 1', 'y = 0'], loc='best')\n",
    "ax.set_xlabel('Microchip test 1')\n",
    "ax.set_ylabel('Microchip test 2')\n",
    "\n",
    "def mapFeature(x1, x2):\n",
    "    ret = np.array([x1**(i-j) * x2**j \n",
    "                    for i in range(1,7) for j in range(i+1)\n",
    "                   ])\n",
    "    return np.insert(ret, 0, np.ones(len(x1)), 0).T\n",
    "\n",
    "mapFeature(np.array([2,3]),np.array([3,2]))[:, :10]\n",
    "\n",
    "X = mapFeature(data2.test1, data2.test2)\n",
    "y = data2.accepted.values\n",
    "initial_theta = np.zeros(X.shape[1])\n",
    "X.shape, y.shape, initial_theta.shape\n",
    "\n",
    "cost(X, y, initial_theta, lambda_=0) \n",
    "\n",
    "lambda_ = 100\n",
    "\n",
    "optimal_theta = scipy.optimize.fmin_bfgs(lambda t: cost(X, y, t, lambda_),\n",
    "                                        initial_theta,\n",
    "                                        lambda t: gradient(X, y, t, lambda_))\n",
    "optimal_theta\n",
    "\n",
    "contour_x = np.linspace(-1, 1.5)\n",
    "contour_y = np.linspace(-1, 1.5)\n",
    "def calc_z(x, y):\n",
    "    return mapFeature(np.array([x]), np.array([y])).dot(optimal_theta)\n",
    "\n",
    "z = np.zeros((len(contour_x), len(contour_y)))\n",
    "for i, c_x in enumerate(contour_x):\n",
    "    for j, c_y in enumerate(contour_y):\n",
    "        z[i,j] = calc_z(c_x, c_y)[0]\n",
    "        \n",
    "ax = plotData(data2)\n",
    "ax.contour(contour_x, contour_y, z, levels=[0])"
   ]
  },
  {
   "cell_type": "markdown",
   "metadata": {
    "collapsed": true
   },
   "source": [
    "##Neural Networks\n"
   ]
  },
  {
   "cell_type": "markdown",
   "metadata": {},
   "source": [
    "###Overview\n",
    "\n",
    "The \"activation\" of unit i in layer j in a neural network consisting of 3 units and a bias unit ($x_0$) in layer $j-1$ is given by\n",
    "\n",
    "$a_i^j=g(\\Theta_{i0}^{j-1}x_0+\\Theta_{i1}^{j-1}x_1+\\Theta_{i2}^{j-1}x_2+\\Theta_{i3}^{j-1}x_3)$\n",
    "\n",
    "if there are three units in layer $j$ and three units in layer $j-1$,  then $\\Theta^1$ will be a $3x4$ dimensional matrix\n",
    "\n",
    "i.e. if the network has $s_j$ units in layer $j$, $s_{j+1}$ units in layer $j+1$, then $\\Theta^j$ has dimensions $s_{j+1}$ x $(s_j+1)$\n",
    "\n",
    "we use these activations to compute the hypothesis:\n",
    "\n",
    "$h_\\Theta(x)=a_1^3=g(\\Theta_{10}^2a_0^2+\\Theta_{11}^2a_1^2+\\Theta_{12}^2a_2^2+\\Theta_{13}^2a_3^2)$\n",
    "\n"
   ]
  },
  {
   "cell_type": "markdown",
   "metadata": {},
   "source": [
    "###Implementation\n",
    "\n",
    "To implement a feedforward neural network (as opposed to a recurrent neural network) we can implement in a vectorized form:\n",
    "\n",
    "$z^2=\\Theta^1a^1=\\begin{bmatrix}\n",
    "z_1^2 \\\\\n",
    "z_2^2 \\\\\n",
    "z_3^2 \\\\\n",
    "\\end{bmatrix}$ \n",
    "\n",
    "and now the previously defined \"activation\" $a_i^j$ is a vector of all i units:\n",
    "\n",
    "$a^j=g(z^j)$ and for a three layer network: $h_\\Theta(x)=a^3=g(z^3)$\n",
    "\n",
    "where g is the sigmoid function:\n",
    "\n",
    "$g(z)=\\frac{1}{1+e^-z}$\n",
    "\n",
    "Note: $x$ can also be referred to as the activation of the first layer, i.e. $a^1$\n",
    "\n",
    "The cost function for neural networks is a generalized version of the regularized cost function:\n",
    "\n",
    "$J(\\theta)=\\frac{1}{m}\\sum\\limits_{i=1}^{m} (-y^ilog(h_\\theta(x^i))-(1-y^i)log(1-h_\\theta(x^i))+\\frac{\\lambda}{2m}\\sum\\limits_{j=2}^{n} \\theta_j^2$\n",
    "\n",
    "instead of one output, we generate outputs equal to the number of distinct classifications:\n",
    "\n",
    "$J(\\Theta)=\\frac{1}{m}\\sum\\limits_{i=1}^{m} \\sum\\limits_{k=1}^{K} (-y_k^ilog(h_\\Theta(x^i))_k-(1-y_k^i)log(1-(h_\\Theta(x^i))_k)+\\frac{\\lambda}{2m}\\sum\\limits_{l=1}^{L-1}\\sum\\limits_{i=1}^{s_l}\\sum\\limits_{j=1}^{s_{l+1}} \\theta_j^2$"
   ]
  },
  {
   "cell_type": "markdown",
   "metadata": {},
   "source": [
    "###Novelty\n",
    "\n",
    "what we are doing is essentially logistic regression, except the function mapping from layer one to layer two allows the algorithm to choose its own features!\n",
    "\n",
    "Neural networks can have additional units and layers. Collectively, this is referred to as the network architecture."
   ]
  },
  {
   "cell_type": "code",
   "execution_count": null,
   "metadata": {
    "collapsed": true
   },
   "outputs": [],
   "source": []
  }
 ],
 "metadata": {
  "kernelspec": {
   "display_name": "Python 3",
   "language": "python",
   "name": "python3"
  },
  "language_info": {
   "codemirror_mode": {
    "name": "ipython",
    "version": 3
   },
   "file_extension": ".py",
   "mimetype": "text/x-python",
   "name": "python",
   "nbconvert_exporter": "python",
   "pygments_lexer": "ipython3",
   "version": "3.4.3"
  }
 },
 "nbformat": 4,
 "nbformat_minor": 0
}
